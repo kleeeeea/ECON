{
 "cells": [
  {
   "cell_type": "code",
   "execution_count": 10,
   "metadata": {
    "ExecuteTime": {
     "end_time": "2019-06-09T20:56:50.099901Z",
     "start_time": "2019-06-09T20:56:50.096941Z"
    }
   },
   "outputs": [],
   "source": [
    "import csv\n",
    "import re\n",
    "from gensim.models import Word2Vec\n",
    "import numpy as np\n",
    "import pdb\n",
    "from sklearn.svm import LinearSVC, SVC\n",
    "from itertools import islice\n",
    "from sklearn import preprocessing\n",
    "import os\n",
    "from constants import SUFFIX_DBPEDIA\n"
   ]
  },
  {
   "cell_type": "code",
   "execution_count": 78,
   "metadata": {
    "ExecuteTime": {
     "end_time": "2019-06-09T21:15:18.180482Z",
     "start_time": "2019-06-09T21:15:18.177350Z"
    }
   },
   "outputs": [],
   "source": [
    "tokenized_text = 'sample_data/sample_text.txt'\n",
    "supersequence_path = tokenized_text + '_superspan_sequence.json'\n",
    "model_save_path = tokenized_text + '_embedding.bin'\n",
    "concept_feature_path = tokenized_text + '_econ_feature.txt'\n",
    "concept_score_path = tokenized_text + '_score_list.bin'\n"
   ]
  },
  {
   "cell_type": "code",
   "execution_count": 22,
   "metadata": {
    "ExecuteTime": {
     "end_time": "2019-06-09T20:57:56.395111Z",
     "start_time": "2019-06-09T20:57:56.392593Z"
    }
   },
   "outputs": [],
   "source": [
    "dbpediaFile = tokenized_text + SUFFIX_DBPEDIA"
   ]
  },
  {
   "cell_type": "code",
   "execution_count": 23,
   "metadata": {
    "ExecuteTime": {
     "end_time": "2019-06-09T20:57:56.900764Z",
     "start_time": "2019-06-09T20:57:56.624894Z"
    }
   },
   "outputs": [],
   "source": [
    "model = Word2Vec.load(model_save_path)"
   ]
  },
  {
   "cell_type": "code",
   "execution_count": 24,
   "metadata": {
    "ExecuteTime": {
     "end_time": "2019-06-09T20:57:57.208297Z",
     "start_time": "2019-06-09T20:57:57.101778Z"
    }
   },
   "outputs": [],
   "source": [
    "def get_feature(row):\n",
    "    try:\n",
    "        if len(row) != 2:\n",
    "            return\n",
    "        text = row[1].strip()\n",
    "        res = re.split('\\s+', text[1:-1].strip())\n",
    "        res = [float(r) for r in res]\n",
    "        if len(res) == 4:\n",
    "            return res\n",
    "    except Exception as e:\n",
    "        print(e)\n",
    "        pdb.set_trace()\n",
    "        \n",
    "feature_dict = {}\n",
    "with open(concept_feature_path) as fin:\n",
    "    for i, line in enumerate(fin):\n",
    "        row = line.split('\\t')\n",
    "        feature = get_feature(row)\n",
    "        if feature:\n",
    "            phrase = row[0]\n",
    "            feature_dict[phrase] = feature\n",
    "        else:\n",
    "            break"
   ]
  },
  {
   "cell_type": "code",
   "execution_count": 28,
   "metadata": {
    "ExecuteTime": {
     "end_time": "2019-06-09T21:00:03.631876Z",
     "start_time": "2019-06-09T21:00:03.325540Z"
    }
   },
   "outputs": [],
   "source": [
    "dbpediaFile\n",
    "dbpediaObjs = [json.loads(l) for l in open(dbpediaFile)]"
   ]
  },
  {
   "cell_type": "code",
   "execution_count": 33,
   "metadata": {
    "ExecuteTime": {
     "end_time": "2019-06-09T21:01:40.932560Z",
     "start_time": "2019-06-09T21:01:40.926828Z"
    }
   },
   "outputs": [],
   "source": [
    "from util.common import flatten\n",
    "from collections import Counter\n",
    "dbpedia_phrase_dict = Counter([np['text'] for np in flatten(dbpediaObjs)])\n"
   ]
  },
  {
   "cell_type": "code",
   "execution_count": 61,
   "metadata": {
    "ExecuteTime": {
     "end_time": "2019-06-09T21:11:50.898080Z",
     "start_time": "2019-06-09T21:11:50.886736Z"
    }
   },
   "outputs": [],
   "source": [
    "# get distant supervision training labels\n",
    "\n",
    "SIZE = 1000\n",
    "\n",
    "neg_phrase = []\n",
    "start = random.randint(0, len(list(feature_dict.keys()))-SIZE)\n",
    "end = start + SIZE\n",
    "for phrase in list(feature_dict.keys())[start: end]:\n",
    "    if phrase in feature_dict:\n",
    "        if np.random.random() > 0.5: \n",
    "            neg_phrase.append(phrase)\n",
    "        if len(neg_phrase) > 1000:\n",
    "            break\n",
    "\n",
    "\n",
    "pos_phrase = []\n",
    "for phrase, freq in dbpedia_phrase_dict.items():\n",
    "        if phrase in feature_dict:\n",
    "            pos_phrase.append(phrase)\n",
    "        if len(pos_phrase) > SIZE:\n",
    "            break"
   ]
  },
  {
   "cell_type": "code",
   "execution_count": 65,
   "metadata": {
    "ExecuteTime": {
     "end_time": "2019-06-09T21:12:03.584896Z",
     "start_time": "2019-06-09T21:12:03.580108Z"
    }
   },
   "outputs": [],
   "source": [
    "X = []\n",
    "y = []\n",
    "for phrase in pos_phrase:\n",
    "    X.append(feature_dict[phrase])\n",
    "    y.append(1)\n",
    "for phrase in neg_phrase:\n",
    "    X.append(feature_dict[phrase])\n",
    "    y.append(0)"
   ]
  },
  {
   "cell_type": "code",
   "execution_count": 66,
   "metadata": {
    "ExecuteTime": {
     "end_time": "2019-06-09T21:12:04.368727Z",
     "start_time": "2019-06-09T21:12:04.341201Z"
    }
   },
   "outputs": [],
   "source": [
    "X_normalized = preprocessing.normalize(X, norm='l2')"
   ]
  },
  {
   "cell_type": "code",
   "execution_count": 67,
   "metadata": {
    "ExecuteTime": {
     "end_time": "2019-06-09T21:12:04.730116Z",
     "start_time": "2019-06-09T21:12:04.719666Z"
    }
   },
   "outputs": [],
   "source": [
    "min_max_scaler = preprocessing.MinMaxScaler()\n",
    "X_train_minmax = min_max_scaler.fit_transform(X)"
   ]
  },
  {
   "cell_type": "code",
   "execution_count": 68,
   "metadata": {
    "ExecuteTime": {
     "end_time": "2019-06-09T21:12:05.287414Z",
     "start_time": "2019-06-09T21:12:05.275300Z"
    }
   },
   "outputs": [
    {
     "data": {
      "text/plain": [
       "[[15.0, 0.59547371, 2.0, -3.0],\n",
       " [11.0, 0.55671461, 2.0, -3.0],\n",
       " [35.0, 0.62087229, 3.0, -4.0],\n",
       " [7.0, 0.55341768, 0.0, -5.0],\n",
       " [2.0, 0.53632933, 2.0, -1.0],\n",
       " [19.0, 0.56752435, 1.0, -7.0],\n",
       " [22.0, 0.55151887, 0.0, -6.0],\n",
       " [12.0, 0.59103597, 0.0, -3.0],\n",
       " [12.0, 0.54997821, 1.0, -6.0],\n",
       " [13.0, 0.54737665, 3.0, -4.0]]"
      ]
     },
     "metadata": {},
     "output_type": "display_data"
    },
    {
     "data": {
      "text/plain": [
       "array([[ 0.97158209,  0.03857011,  0.12954428, -0.19431642],\n",
       "       [ 0.94915824,  0.0480373 ,  0.17257423, -0.25886134],\n",
       "       [ 0.98979689,  0.01755821,  0.08483973, -0.11311964],\n",
       "       [ 0.81205474,  0.06420078,  0.        , -0.5800391 ],\n",
       "       [ 0.65626175,  0.17598621,  0.65626175, -0.32813088],\n",
       "       [ 0.93683388,  0.02798295,  0.04930705, -0.34514932],\n",
       "       [ 0.96448178,  0.02417863,  0.        , -0.26304048],\n",
       "       [ 0.9690369 ,  0.04772797,  0.        , -0.24225922],\n",
       "       [ 0.89120862,  0.04084544,  0.07426738, -0.44560431],\n",
       "       [ 0.93262569,  0.03926904,  0.21522131, -0.28696175]])"
      ]
     },
     "metadata": {},
     "output_type": "display_data"
    },
    {
     "data": {
      "text/plain": [
       "array([[0.3       , 0.60111303, 0.4       , 0.86956522],\n",
       "       [0.22      , 0.56198687, 0.4       , 0.86956522],\n",
       "       [0.7       , 0.62675215, 0.6       , 0.82608696],\n",
       "       [0.14      , 0.55865872, 0.        , 0.7826087 ],\n",
       "       [0.04      , 0.54140854, 0.4       , 0.95652174],\n",
       "       [0.38      , 0.57289898, 0.2       , 0.69565217],\n",
       "       [0.44      , 0.55674193, 0.        , 0.73913043],\n",
       "       [0.24      , 0.59663327, 0.        , 0.86956522],\n",
       "       [0.24      , 0.55518668, 0.2       , 0.73913043],\n",
       "       [0.26      , 0.55256048, 0.6       , 0.82608696]])"
      ]
     },
     "metadata": {},
     "output_type": "display_data"
    }
   ],
   "source": [
    "display(X[:10])\n",
    "display(X_normalized[:10])\n",
    "display(X_train_minmax[:10])"
   ]
  },
  {
   "cell_type": "code",
   "execution_count": 70,
   "metadata": {
    "ExecuteTime": {
     "end_time": "2019-06-09T21:12:10.303669Z",
     "start_time": "2019-06-09T21:12:06.715503Z"
    },
    "scrolled": true
   },
   "outputs": [
    {
     "data": {
      "text/plain": [
       "SVC(C=1.0, cache_size=200, class_weight=None, coef0=0.0,\n",
       "  decision_function_shape='ovr', degree=3, gamma='auto', kernel='linear',\n",
       "  max_iter=-1, probability=True, random_state=None, shrinking=True,\n",
       "  tol=0.001, verbose=False)"
      ]
     },
     "execution_count": 70,
     "metadata": {},
     "output_type": "execute_result"
    }
   ],
   "source": [
    "# clf = LinearSVC()\n",
    "clf = SVC(probability=True, kernel='linear')\n",
    "clf.fit(X, y)"
   ]
  },
  {
   "cell_type": "code",
   "execution_count": 71,
   "metadata": {
    "ExecuteTime": {
     "end_time": "2019-06-09T21:12:15.217561Z",
     "start_time": "2019-06-09T21:12:15.210515Z"
    }
   },
   "outputs": [
    {
     "name": "stdout",
     "output_type": "stream",
     "text": [
      "[[ 2.22495493e-05 -2.57730508e-04  4.14485162e-05 -1.99984558e+00]]\n",
      "[-1.00012167]\n"
     ]
    }
   ],
   "source": [
    "print(clf.coef_)\n",
    "print(clf.intercept_)"
   ]
  },
  {
   "cell_type": "code",
   "execution_count": 72,
   "metadata": {
    "ExecuteTime": {
     "end_time": "2019-06-09T21:12:15.947440Z",
     "start_time": "2019-06-09T21:12:15.943573Z"
    }
   },
   "outputs": [],
   "source": [
    "train_phrase = set(pos_phrase + neg_phrase)"
   ]
  },
  {
   "cell_type": "code",
   "execution_count": 73,
   "metadata": {
    "ExecuteTime": {
     "end_time": "2019-06-09T21:12:18.736306Z",
     "start_time": "2019-06-09T21:12:18.726241Z"
    }
   },
   "outputs": [],
   "source": [
    "X_test_phrase = []\n",
    "X_test = []\n",
    "for phrase, feature in feature_dict.items():\n",
    "    if phrase not in train_phrase:\n",
    "        X_test_phrase.append(phrase)\n",
    "        X_test.append(feature)"
   ]
  },
  {
   "cell_type": "code",
   "execution_count": 74,
   "metadata": {
    "ExecuteTime": {
     "end_time": "2019-06-09T21:12:21.495216Z",
     "start_time": "2019-06-09T21:12:21.210593Z"
    }
   },
   "outputs": [],
   "source": [
    "y_pred = clf.predict(X_test)\n",
    "y_score = clf.decision_function(X_test)\n",
    "y_prob = clf.predict_proba(X_test)"
   ]
  },
  {
   "cell_type": "code",
   "execution_count": 79,
   "metadata": {
    "ExecuteTime": {
     "end_time": "2019-06-09T21:15:21.803505Z",
     "start_time": "2019-06-09T21:15:21.790273Z"
    }
   },
   "outputs": [],
   "source": [
    "pickle.dump(y_prob[:,1], open(concept_score_path, 'wb'))"
   ]
  },
  {
   "cell_type": "code",
   "execution_count": null,
   "metadata": {},
   "outputs": [],
   "source": []
  }
 ],
 "metadata": {
  "hide_input": false,
  "kernelspec": {
   "display_name": "Python 3",
   "language": "python",
   "name": "python3"
  },
  "language_info": {
   "codemirror_mode": {
    "name": "ipython",
    "version": 3
   },
   "file_extension": ".py",
   "mimetype": "text/x-python",
   "name": "python",
   "nbconvert_exporter": "python",
   "pygments_lexer": "ipython3",
   "version": "3.6.5"
  },
  "toc": {
   "base_numbering": 1,
   "nav_menu": {},
   "number_sections": true,
   "sideBar": true,
   "skip_h1_title": false,
   "title_cell": "Table of Contents",
   "title_sidebar": "Contents",
   "toc_cell": false,
   "toc_position": {},
   "toc_section_display": true,
   "toc_window_display": false
  },
  "varInspector": {
   "cols": {
    "lenName": 16,
    "lenType": 16,
    "lenVar": 40
   },
   "kernels_config": {
    "python": {
     "delete_cmd_postfix": "",
     "delete_cmd_prefix": "del ",
     "library": "var_list.py",
     "varRefreshCmd": "print(var_dic_list())"
    },
    "r": {
     "delete_cmd_postfix": ") ",
     "delete_cmd_prefix": "rm(",
     "library": "var_list.r",
     "varRefreshCmd": "cat(var_dic_list()) "
    }
   },
   "types_to_exclude": [
    "module",
    "function",
    "builtin_function_or_method",
    "instance",
    "_Feature"
   ],
   "window_display": false
  }
 },
 "nbformat": 4,
 "nbformat_minor": 2
}
